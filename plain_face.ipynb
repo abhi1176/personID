{
 "cells": [
  {
   "cell_type": "code",
   "execution_count": 143,
   "metadata": {},
   "outputs": [],
   "source": [
    "# pip install numpy\n",
    "import numpy as np\n",
    "import os\n",
    "# pip install pandas\n",
    "import pandas as pd\n",
    "\n",
    "# pip install git+https://github.com/rcmalli/keras-vggface.git\n",
    "from keras_vggface.vggface import VGGFace\n",
    "from keras_vggface.utils import preprocess_input\n",
    "\n",
    "# pip install Pillow\n",
    "from PIL import Image\n",
    "\n",
    "from glob import glob\n",
    "from collections import defaultdict\n",
    "\n",
    "import pickle\n",
    "# pip install scipy\n",
    "from scipy.spatial.distance import cosine, euclidean\n",
    "# pip install tqdm\n",
    "from tqdm import tqdm"
   ]
  },
  {
   "cell_type": "code",
   "execution_count": 132,
   "metadata": {},
   "outputs": [],
   "source": [
    "model = VGGFace(model='resnet50', include_top=False, input_shape=(224, 224, 3), pooling='avg')"
   ]
  },
  {
   "cell_type": "code",
   "execution_count": 133,
   "metadata": {},
   "outputs": [],
   "source": [
    "def get_encodings(file):\n",
    "    image = Image.open(file)\n",
    "    image = image.convert('RGB')\n",
    "    face = np.expand_dims(np.asarray(image, dtype=np.float64), axis=0)\n",
    "    face = preprocess_input(face, version=2)\n",
    "    yhat = model.predict(face)\n",
    "    return yhat"
   ]
  },
  {
   "cell_type": "code",
   "execution_count": 141,
   "metadata": {},
   "outputs": [
    {
     "name": "stderr",
     "output_type": "stream",
     "text": [
      " 76%|██████████████████████████████████████████████████████████▉                   | 1139/1506 [02:28<00:35, 10.35it/s]"
     ]
    },
    {
     "name": "stdout",
     "output_type": "stream",
     "text": [
      "[ERROR] Failed to get encodings...\n"
     ]
    },
    {
     "name": "stderr",
     "output_type": "stream",
     "text": [
      "100%|██████████████████████████████████████████████████████████████████████████████| 1506/1506 [03:18<00:00,  7.58it/s]\n"
     ]
    }
   ],
   "source": [
    "train_df = pd.read_csv(\"datasets/train.csv\", usecols=['face', 'label'])\n",
    "val_df = pd.read_csv(\"datasets/val.csv\", usecols=['face', 'label'])\n",
    "df = pd.concat([train_df, val_df])\n",
    "df.drop_duplicates(inplace=True)\n",
    "df.sort_values(by=['label'], inplace=True)\n",
    "df.reset_index(inplace=True)\n",
    "encodings = defaultdict(list)\n",
    "for i in tqdm(range(df.shape[0])):\n",
    "    row = df.iloc[i, :]\n",
    "    try:\n",
    "        encd = get_encodings(row.face)\n",
    "    except Exception as e:\n",
    "        print(\"[ERROR] Failed to get encodings for: {}\".format(row.face))\n",
    "        print(e)\n",
    "    else:\n",
    "        encodings[row.label].append(encd)\n",
    "\n",
    "encodings = [(label, encods) for label, encods in encodings.items()]\n",
    "\n",
    "with open(\"face_encodings.pkl\", 'wb') as f:\n",
    "    pickle.dump(encodings, f)"
   ]
  },
  {
   "cell_type": "code",
   "execution_count": 142,
   "metadata": {},
   "outputs": [
    {
     "name": "stderr",
     "output_type": "stream",
     "text": [
      "100%|███████████████████████████████████████████████████████████████████████████████| 300/300 [00:00<00:00, 655.34it/s]"
     ]
    },
    {
     "name": "stdout",
     "output_type": "stream",
     "text": [
      "[INFO] Accuracy (th:0.5): 0.9997357643017571\n"
     ]
    },
    {
     "name": "stderr",
     "output_type": "stream",
     "text": [
      "\n"
     ]
    }
   ],
   "source": [
    "threshold = 0.5\n",
    "right = 0\n",
    "wrong = 0\n",
    "\n",
    "for i in tqdm(range(len(encodings))):\n",
    "    for j in range(i, len(encodings)):\n",
    "        for e1 in encodings[i][1]:\n",
    "            for e2 in encodings[j][1]:\n",
    "                if i == j:\n",
    "                    if cosine(e1, e2) < threshold:\n",
    "                        right += 1\n",
    "                    else:\n",
    "                        wrong += 1\n",
    "\n",
    "print(\"[INFO] Accuracy (th:{}): {}\".format(right / (right + wrong)))"
   ]
  },
  {
   "cell_type": "code",
   "execution_count": null,
   "metadata": {},
   "outputs": [],
   "source": []
  }
 ],
 "metadata": {
  "kernelspec": {
   "display_name": "ai",
   "language": "python",
   "name": "ai"
  },
  "language_info": {
   "codemirror_mode": {
    "name": "ipython",
    "version": 3
   },
   "file_extension": ".py",
   "mimetype": "text/x-python",
   "name": "python",
   "nbconvert_exporter": "python",
   "pygments_lexer": "ipython3",
   "version": "3.8.5"
  }
 },
 "nbformat": 4,
 "nbformat_minor": 4
}
